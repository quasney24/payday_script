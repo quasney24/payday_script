{
 "cells": [
  {
   "cell_type": "code",
   "execution_count": 3,
   "metadata": {},
   "outputs": [
    {
     "name": "stdout",
     "output_type": "stream",
     "text": [
      "                 MIT   Spine  Trauma  Recon - Direct    CSS  LastBu    ETH  \\\n",
      "total sp         0.0  1444.0     0.0              0.0   0.0     0.0    0.0   \n",
      "total sp done  164.0  1855.0   354.0             92.0  35.0   233.0  360.0   \n",
      "\n",
      "               Recon - Distributer  \n",
      "total sp                       0.0  \n",
      "total sp done                113.0  \n"
     ]
    }
   ],
   "source": [
    "#Dependencies - Python 3, pandas\n",
    "import matplotlib.pyplot as plt\n",
    "import pandas as pd \n",
    "\n",
    "#READ CSV\n",
    "#file_new= r'payday_forecast_new.csv'\n",
    "#file_old = r'payday_forecast_old.csv'\n",
    "df = pd.read_csv('payday_forecast_new.csv')\n",
    "df2 = pd.read_csv('payday_forecast_old.csv')\n",
    "\n",
    "\n",
    "\n",
    "#Data Prep\n",
    "\n",
    "clean_data = pd.DataFrame(df, columns={\"Issue Type\",\"Custom field (Story Points)\",\"Component/s\",\n",
    "\t\t\t\t\t\t\t\t\t\t\"Fix Version/s\",\"Sprint\",\"Labels\",\"Status\",\"Resolution\"})\n",
    "\n",
    "##Fill NaN Story Point values with Average = 7\n",
    "\n",
    "clean_data[['Custom field (Story Points)']] = clean_data[['Custom field (Story Points)']].fillna(value = 7)\n",
    "# print(clean_data)\n",
    "\n",
    "\n",
    "####---- Fix (Version) ---####\n",
    "sp_list = []\n",
    "sp_done_list = []\n",
    "\n",
    "unique_release = clean_data['Fix Version/s'].unique()\n",
    "\n",
    "### INFO - This loop grabs the TOTAL sum for each unique Version and appends it in an empty list \"sp_list\"\n",
    "for x in unique_release:\n",
    "\trelease_total_df = clean_data.loc[clean_data['Fix Version/s'] == x]\n",
    "\t# release_completed_df = (release_total_df) & (clean_data.loc[clean_data['Resolution']=='Done'])\n",
    "\trelease_completed_df_2 = release_total_df.loc[release_total_df['Resolution']=='Done']\n",
    "\ttotal_done_sp = release_completed_df_2['Custom field (Story Points)'].sum()\n",
    "\tsp_done_list.append(total_done_sp)\n",
    "\t\n",
    "\n",
    "\ttotal_story_point = release_total_df['Custom field (Story Points)'].sum()\n",
    "\tsp_list.append(total_story_point)\n",
    "\n",
    "# total_sp_release = pd.DataFrame(sp_list, index=unique_release)\n",
    "# print(total_sp_release)\n",
    "total_done_sp_release = pd.DataFrame(columns = unique_release, data=[sp_done_list,sp_list], index=['total sp', 'total sp done'])\n",
    "print(total_done_sp_release)"
   ]
  },
  {
   "cell_type": "code",
   "execution_count": null,
   "metadata": {},
   "outputs": [],
   "source": []
  }
 ],
 "metadata": {
  "kernelspec": {
   "display_name": "Python 3",
   "language": "python",
   "name": "python3"
  },
  "language_info": {
   "codemirror_mode": {
    "name": "ipython",
    "version": 3
   },
   "file_extension": ".py",
   "mimetype": "text/x-python",
   "name": "python",
   "nbconvert_exporter": "python",
   "pygments_lexer": "ipython3",
   "version": "3.6.4"
  }
 },
 "nbformat": 4,
 "nbformat_minor": 2
}
